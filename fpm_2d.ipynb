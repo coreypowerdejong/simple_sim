{
 "cells": [
  {
   "cell_type": "code",
   "execution_count": 1,
   "metadata": {},
   "outputs": [],
   "source": [
    "from utils_2d import *\n",
    "from utils import *\n",
    "from matplotlib import pyplot as plt\n",
    "import numpy as np\n",
    "import cv2 as cv"
   ]
  },
  {
   "cell_type": "code",
   "execution_count": 2,
   "metadata": {},
   "outputs": [],
   "source": [
    "setup = {\n",
    "    'N': 8192,\n",
    "    'L': 4e-3, # 8mm\n",
    "    'lambda_0': 650e-9, # 650nm, red light\n",
    "    'f1': 0.045, # 45mm\n",
    "    'f2': 0.025, # 25mm\n",
    "    'A': 0.005, # 5mm\n",
    "    'plot': False\n",
    "}\n",
    "N = setup['N']\n",
    "n = 1024\n",
    "signal = np.asarray(cv.imread('./test_images/siemens_2048.bmp', cv.IMREAD_GRAYSCALE))\n",
    "field = np.zeros((N, N), dtype=np.complex128)\n",
    "field = center_splice_2d(field, signal)\n",
    "# plt.imshow(np.abs(field), cmap='gray')"
   ]
  },
  {
   "cell_type": "code",
   "execution_count": 3,
   "metadata": {},
   "outputs": [],
   "source": [
    "# compute coordinates for aperture field\n",
    "kx = np.fft.fftfreq(setup['N'], d=setup['L']/setup['N'])\n",
    "kx = np.fft.fftshift(kx)*setup['lambda_0']*setup['f1']\n",
    "\n",
    "A_samples = int((setup['A'] / (np.max(kx) - np.min(kx))) * setup['N'])"
   ]
  },
  {
   "cell_type": "code",
   "execution_count": 35,
   "metadata": {},
   "outputs": [],
   "source": [
    "n_leds = 5\n",
    "n_samples_led = 5000\n",
    "size_led = 223e-3\n",
    "spacing = 4e-3\n",
    "led_fwhm = 0.1e-3\n",
    "\n",
    "# generate array of images\n",
    "\n",
    "images = []\n",
    "for i, (index, x) in enumerate(led_array_2d(n_leds, n_samples_led, size_led, spacing, led_fwhm)):\n",
    "    # compute illumination, propagate to object plane\n",
    "    x_out, _ = propagate_fft_2d(x)\n",
    "    x_field = np.zeros((N, N), dtype=np.complex128)\n",
    "    x_field = center_splice_2d(x_field, x_out)\n",
    "    \n",
    "    # compute object field\n",
    "    object_field = x_field * field\n",
    "    \n",
    "    # image object\n",
    "    img = image_2d(object_field, setup)\n",
    "        \n",
    "    img_amp = np.abs(img) # output image amplitude, same as sqrt(intensity(image(object, setup))\n",
    "    images.append((index, img_amp))\n",
    "    \n",
    "#  offset due to plane wave (precalculated)\n",
    "offset = -147 #np.abs((np.array(np.subtract(np.unravel_index(np.argmax(x), x.shape), (n_samples_led//2, n_samples_led//2))) / n_samples_led) * N).astype(int)\n"
   ]
  },
  {
   "cell_type": "code",
   "execution_count": 5,
   "metadata": {},
   "outputs": [
    {
     "data": {
      "text/plain": [
       "array([-147, -147])"
      ]
     },
     "execution_count": 5,
     "metadata": {},
     "output_type": "execute_result"
    }
   ],
   "source": [
    "-np.abs((np.array(np.subtract(np.unravel_index(np.argmax(x), x.shape), (n_samples_led//2, n_samples_led//2))) / n_samples_led) * N).astype(int)\n"
   ]
  },
  {
   "cell_type": "code",
   "execution_count": 28,
   "metadata": {},
   "outputs": [
    {
     "data": {
      "text/plain": [
       "<module 'utils_2d' from 'c:\\\\Users\\\\rewop\\\\Documents\\\\thesis_project\\\\simple_sim\\\\utils_2d.py'>"
      ]
     },
     "execution_count": 28,
     "metadata": {},
     "output_type": "execute_result"
    }
   ],
   "source": [
    "import importlib\n",
    "import utils_2d\n",
    "importlib.reload(utils_2d)"
   ]
  },
  {
   "cell_type": "code",
   "execution_count": 36,
   "metadata": {},
   "outputs": [],
   "source": [
    "output = utils_2d.reconstruct_gs_2d(images, offset, N)\n",
    "output_img = ifftshift(ifft(ifftshift(output)))"
   ]
  },
  {
   "cell_type": "code",
   "execution_count": 38,
   "metadata": {},
   "outputs": [
    {
     "data": {
      "text/plain": [
       "True"
      ]
     },
     "execution_count": 38,
     "metadata": {},
     "output_type": "execute_result"
    }
   ],
   "source": [
    "# plt.imshow(np.abs(output_img), cmap='gray')\n",
    "cv.imwrite('./test_output/siemens_2048_recon.bmp', 256*np.abs(normalize(output)))"
   ]
  }
 ],
 "metadata": {
  "kernelspec": {
   "display_name": "optics",
   "language": "python",
   "name": "python3"
  },
  "language_info": {
   "codemirror_mode": {
    "name": "ipython",
    "version": 3
   },
   "file_extension": ".py",
   "mimetype": "text/x-python",
   "name": "python",
   "nbconvert_exporter": "python",
   "pygments_lexer": "ipython3",
   "version": "3.10.6"
  },
  "orig_nbformat": 4
 },
 "nbformat": 4,
 "nbformat_minor": 2
}
